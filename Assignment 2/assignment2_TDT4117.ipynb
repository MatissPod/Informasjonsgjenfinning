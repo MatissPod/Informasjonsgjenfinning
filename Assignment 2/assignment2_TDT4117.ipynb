{
 "cells": [
  {
   "cell_type": "markdown",
   "id": "1bb94987",
   "metadata": {},
   "source": [
    "# Assignment 2 : Language Modeling & Evaluation \n",
    "\n",
    "**Student names**: _Your_names_here_ <br>\n",
    "**Group number**: _Your_group_here_ <br>\n",
    "**Date**: _Submission Date_\n",
    "\n",
    "## Important notes\n",
    "Please read and follow these rules. Submissions that do not fulfill them may be returned.\n",
    "1. You may work in groups of maximum 2 students.\n",
    "2. Submit in **.ipynb** format only.\n",
    "3. The assignment must be typed. Handwritten answers are not accepted.\n",
    "\n",
    "**Due date**: 28.09.2025 23:59\n",
    "\n",
    "### What you will do\n",
    "- Build a **unigram document language model** with a **document-term matrix**.\n",
    "- Rank documents for queries using **Jelinek-Mercer smoothing**.\n",
    "- Evaluate the run using **Cranfield queries and qrels** (P@k, MAP, MRR).\n",
    "- (Optional) Try **Dirichlet** and compare briefly.\n"
   ]
  },
  {
   "cell_type": "markdown",
   "id": "b202a5f0",
   "metadata": {},
   "source": [
    "---\n",
    "## Dataset\n",
    "\n",
    "Make sure the Cranfield files are placed next to the notebook:\n",
    "- `cran.all.1400` — document collection (1400 docs)\n",
    "- `cran.qry` — queries\n",
    "- `cranqrel` — relevance judgments (qrels)\n",
    "\n",
    "> Only the **document parsing** for cran.all.1400 code is provided below. You will implement the rest in the TODO cells.\n"
   ]
  },
  {
   "cell_type": "markdown",
   "id": "eef4e626",
   "metadata": {},
   "source": [
    "### Load and parse documents (provided)\n",
    "\n",
    "Run the cell to parse the Cranfield documents. Update the path so it points to your `cran.all.1400` file.\n"
   ]
  },
  {
   "cell_type": "code",
   "execution_count": 15,
   "id": "84acb800",
   "metadata": {},
   "outputs": [
    {
     "name": "stdout",
     "output_type": "stream",
     "text": [
      "Parsed 1400 documents.\n",
      "[(1, {'id': 1, 'title': 'experimental investigation of the aerodynamics of a wing in a slipstream .', 'abstract': 'experimental investigation of the aerodynamics of a wing in a slipstream .   an experimental study of a wing in a propeller slipstream was made in order to determine the spanwise distribution of the lift increase due to slipstream at different angles of attack of the wing and at different free stream to slipstream velocity ratios .  the results were intended in part as an evaluation basis for different theoretical treatments of this problem .   the comparative span loading curves, together with supporting evidence, showed that a substantial part of the lift increment produced by the slipstream was due to a /destalling/ or boundary-layer-control effect .  the integrated remaining lift increment, after subtracting this destalling lift, was found to agree well with a potential flow theory .   an empirical evaluation of the destalling effects was made for the specific configuration of the experiment .'})]\n"
     ]
    }
   ],
   "source": [
    "# TODO: Read 'cran.all.1400' and parse the documents into a suitable data structure\n",
    "\n",
    "CRAN_PATH = r\"cran.all.1400\"  # <-- change this!\n",
    "\n",
    "def parse_cranfield(path):\n",
    "    docs = {}\n",
    "    current_id = None\n",
    "    current_field = None\n",
    "    buffers = {\"T\": [], \"A\": [], \"B\": [], \"W\": []}\n",
    "    with open(path, \"r\", encoding=\"utf-8\", errors=\"ignore\") as f:\n",
    "        for line in f:\n",
    "            line = line.rstrip(\"\\n\")\n",
    "            if line.startswith(\".I \"):\n",
    "                if current_id is not None:\n",
    "                    docs[current_id] = {\n",
    "                        \"id\": current_id,\n",
    "                        \"title\": \" \".join(buffers[\"T\"]).strip(),\n",
    "                        \"abstract\": \" \".join(buffers[\"W\"]).strip()\n",
    "                    }\n",
    "                current_id = int(line.split()[1])\n",
    "                buffers = {k: [] for k in buffers}\n",
    "                current_field = None\n",
    "            elif line.startswith(\".\"):\n",
    "                tag = line[1:].strip()\n",
    "                current_field = tag if tag in buffers else None\n",
    "            else:\n",
    "                if current_field is not None:\n",
    "                    buffers[current_field].append(line)\n",
    "    if current_id is not None:\n",
    "        docs[current_id] = {\n",
    "            \"id\": current_id,\n",
    "            \"title\": \" \".join(buffers[\"T\"]).strip(),\n",
    "            \"abstract\": \" \".join(buffers[\"W\"]).strip()\n",
    "        }\n",
    "    print(f\"Parsed {len(docs)} documents.\")\n",
    "    return docs\n",
    "\n",
    "docs = parse_cranfield(CRAN_PATH)\n",
    "print(list(docs.items())[:1])  # peek at the first parsed doc\n"
   ]
  },
  {
   "cell_type": "code",
   "execution_count": 16,
   "id": "dc14e35c",
   "metadata": {},
   "outputs": [],
   "source": [
    "#All used imports:\n",
    "import numpy as np\n",
    "from scipy.sparse import csr_matrix\n",
    "import string"
   ]
  },
  {
   "cell_type": "markdown",
   "id": "03aa91cc",
   "metadata": {},
   "source": [
    "## 2.1 Language Modeling\n",
    "\n",
    "You will create a **unigram language model** per document, using a **document-term matrix**, and score queries with **Jelinek-Mercer smoothing**.\n"
   ]
  },
  {
   "cell_type": "markdown",
   "id": "96ade37a",
   "metadata": {},
   "source": [
    "### 2.1.1 Preprocessing\n",
    "\n",
    "Implement a simple tokenizer/normalizer (e.g., lowercasing, punctuation removal and stopword removal) and apply it to each document\n",
    "\n",
    "- Return a list of tokens for each document.\n"
   ]
  },
  {
   "cell_type": "code",
   "execution_count": 17,
   "id": "abd9b2cf",
   "metadata": {},
   "outputs": [],
   "source": [
    "# TODO: Implement preprocessing and apply to all documents\n",
    "\n",
    "STOPWORDS = set(\"\"\"a about above after again against all am an and any are aren't as at be because been\n",
    "before being below between both but by can't cannot could couldn't did didn't do does doesn't doing don't down\n",
    "during each few for from further had hadn't has hasn't have haven't having he he'd he'll he's her here here's hers\n",
    "herself him himself his how how's i i'd i'll i'm i've if in into is isn't it it's its itself let's me more most\n",
    "mustn't my myself no nor not of off on once only or other ought our ours ourselves out over own same shan't she\n",
    "she'd she'll she's should shouldn't so some such than that that's the their theirs them themselves then there there's\n",
    "these they they'd they'll they're they've this those through to too under until up very was wasn't we we'd we'll we're\n",
    "we've were weren't what what's when when's where where's which while who who's whom why why's with won't would wouldn't\n",
    "you you'd you'll you're you've your yours yourself yourselves\"\"\".split())\n",
    "\n",
    "# Your code here\n",
    "\n",
    "def preprocess_documents(docs):\n",
    "    result = []\n",
    "    translator = str.maketrans(string.punctuation, ' ' * len(string.punctuation))\n",
    "    \n",
    "    for doc in docs.values():\n",
    "        # Combine title and abstract\n",
    "        text = f\"{doc['title']} {doc['abstract']}\".lower()\n",
    "        \n",
    "        # Remove punctuation\n",
    "        text = text.translate(translator)\n",
    "        \n",
    "        # Tokenize\n",
    "        tokens = text.split()\n",
    "        \n",
    "        # Remove stopwords + empty tokens\n",
    "        filtered_tokens = [t for t in tokens if t not in STOPWORDS and t.strip()]\n",
    "        \n",
    "        result.append(filtered_tokens)\n",
    "    \n",
    "    return result\n",
    "\n",
    "\n",
    "tokenized_documents = preprocess_documents(docs)  # Returns list of token lists"
   ]
  },
  {
   "cell_type": "markdown",
   "id": "44b959a1",
   "metadata": {},
   "source": [
    "### 2.1.2 Build the matrix\n",
    "\n",
    "Construct:\n",
    "- A vocabulary `term -> column_index`\n",
    "- A (sparse) **document–term count matrix**\n",
    "- Document lengths `|d|` and collection (all documents) totals\n",
    "\n",
    "> Tip: You may use dictionaries or `scipy.sparse` for efficiency.\n"
   ]
  },
  {
   "cell_type": "code",
   "execution_count": 18,
   "id": "d74cdc73",
   "metadata": {},
   "outputs": [
    {
     "name": "stdout",
     "output_type": "stream",
     "text": [
      "Vocabulary size: 7361\n",
      "Matrix shape: (1400, 7361)\n",
      "Document lengths: [ 84 130  25 ... 121  56  73]\n",
      "Collection total: 145134\n"
     ]
    }
   ],
   "source": [
    "# TODO: Build vocabulary, doc-term counts (sparse), document lengths, and collection totals\n",
    "# Your code here\n",
    "import numpy as np\n",
    "from scipy.sparse import csr_matrix\n",
    "\n",
    "def build_document_term_matrix(tokenized_documents):\n",
    "    \"\"\"\n",
    "    Builds:\n",
    "      - Vocabulary (term -> column_index)\n",
    "      - Sparse document-term count matrix\n",
    "      - Document lengths |d|\n",
    "      - Collection total (sum of lengths)\n",
    "    \"\"\"\n",
    "    \n",
    "    # Build vocabulary\n",
    "    vocab = {}\n",
    "    current_index = 0\n",
    "    for doc_tokens in tokenized_documents:\n",
    "        for term in doc_tokens:\n",
    "            if term not in vocab:\n",
    "                vocab[term] = current_index\n",
    "                current_index += 1\n",
    "    \n",
    "    # Prepare lists for sparse matrix construction\n",
    "    rows, cols, data = [], [], []\n",
    "    \n",
    "    for doc_id, doc_tokens in enumerate(tokenized_documents):\n",
    "        term_counts = {}\n",
    "        for term in doc_tokens:\n",
    "            col_idx = vocab[term]\n",
    "            term_counts[col_idx] = term_counts.get(col_idx, 0) + 1\n",
    "        \n",
    "        # Fill row, col, data\n",
    "        for col_idx, count in term_counts.items():\n",
    "            rows.append(doc_id)\n",
    "            cols.append(col_idx)\n",
    "            data.append(count)\n",
    "    \n",
    "    # Sparse document-term matrix\n",
    "    doc_term_matrix = csr_matrix((data, (rows, cols)), \n",
    "                                 shape=(len(tokenized_documents), len(vocab)),\n",
    "                                 dtype=np.int32)\n",
    "    \n",
    "    # Document lengths\n",
    "    doc_lengths = np.array(doc_term_matrix.sum(axis=1)).ravel()\n",
    "    \n",
    "    # Collection total\n",
    "    collection_total = doc_lengths.sum()\n",
    "    \n",
    "    return vocab, doc_term_matrix, doc_lengths, collection_total\n",
    "\n",
    "\n",
    "# Example usage\n",
    "vocab, doc_term_matrix, doc_lengths, collection_total = build_document_term_matrix(tokenized_documents)\n",
    "\n",
    "print(f\"Vocabulary size: {len(vocab)}\")\n",
    "print(f\"Matrix shape: {doc_term_matrix.shape}\")\n",
    "print(f\"Document lengths: {doc_lengths}\")\n",
    "print(f\"Collection total: {collection_total}\")\n",
    "\n"
   ]
  },
  {
   "cell_type": "markdown",
   "id": "b0affe47",
   "metadata": {},
   "source": [
    "### 2.1.3 Rank with **Jelinek-Mercer smoothing**\n",
    "\n",
    "Implement query likelihood scoring with Jelinek-Mercer smoothing:\n",
    "\n",
    "$\\hat{P}(t \\mid M_d) = \\lambda \\hat{P}_{\\text{mle}}(t \\mid M_d) + (1 - \\lambda)\\hat{P}_{\\text{mle}}(t \\mid M_c), \\ \\lambda = 0.5$\n",
    "\n"
   ]
  },
  {
   "cell_type": "code",
   "execution_count": 19,
   "id": "147c30cb",
   "metadata": {},
   "outputs": [],
   "source": [
    "\"\"\" TODO: Create a function for implementing query likelihood scoring with Jelinek Mercer smoothing (λ=0.5), \n",
    "using the formula above.\"\"\"\n",
    "\n",
    "dLAMBDA = 0.5  # Jelinek-Mercer smoothing parameter\n",
    "\n",
    "def jelinek_smoothing(query, vocab=vocab, \n",
    "                      doc_term_matrix=doc_term_matrix, \n",
    "                      doc_lengths=doc_lengths, \n",
    "                      collection_total=collection_total):\n",
    "    \n",
    "    query_tokens = query.lower().split()\n",
    "    scores = np.zeros(doc_term_matrix.shape[0])  # one score per doc\n",
    "    \n",
    "    for term in query_tokens:\n",
    "        if term not in vocab:\n",
    "            continue  # skip OOV terms\n",
    "        col_idx = vocab[term]\n",
    "        \n",
    "        # f_{t,d}: term frequency in each doc\n",
    "        term_freqs = doc_term_matrix[:, col_idx].toarray().ravel()\n",
    "        \n",
    "        # P_mle(t|Md) = f_{t,d} / |d|\n",
    "        p_td = np.divide(term_freqs, doc_lengths, \n",
    "                         out=np.zeros_like(term_freqs, dtype=float), \n",
    "                         where=doc_lengths > 0)\n",
    "        \n",
    "        # f_{t,C}: term frequency in collection\n",
    "        f_tc = term_freqs.sum()\n",
    "        \n",
    "        # P_mle(t|Mc) = f_{t,C} / |C|\n",
    "        p_tc = f_tc / collection_total if collection_total > 0 else 0.0\n",
    "        \n",
    "        # Jelinek-Mercer smoothed probability\n",
    "        smoothed = LAMBDA * p_td + (1 - LAMBDA) * p_tc\n",
    "        \n",
    "        # Add log probs (avoid log(0) by masking)\n",
    "        scores += np.log(smoothed + 1e-12)  \n",
    "    \n",
    "    # Rank documents by descending score\n",
    "    ranked_docs = np.argsort(-scores)\n",
    "    return ranked_docs.tolist()"
   ]
  },
  {
   "cell_type": "code",
   "execution_count": 20,
   "id": "e389f7fe",
   "metadata": {
    "deletable": false,
    "editable": false
   },
   "outputs": [],
   "source": [
    "# Do not change this code\n",
    "queries_assignment2 = [\n",
    "  \"gas pressure\",\n",
    "  \"structural aeroelastic flight high speed aircraft\",\n",
    "  \"heat conduction composite slabs\",\n",
    "  \"boundary layer control\",\n",
    "  \"compressible flow nozzle\",\n",
    "  \"combustion chamber injection\",\n",
    "  \"laminar turbulent transition\",\n",
    "  \"fatigue crack growth\",\n",
    "  \"wing tip vortices\",\n",
    "  \"propulsion efficiency\"\n",
    "]"
   ]
  },
  {
   "cell_type": "code",
   "execution_count": 21,
   "id": "0b153b1f",
   "metadata": {},
   "outputs": [
    {
     "name": "stdout",
     "output_type": "stream",
     "text": [
      "Q1 => [168, 182, 1002, 1311, 1314, 1142, 1273, 974, 1318, 1138]\n",
      "Q2 => [11, 140, 745, 50, 874, 1168, 1169, 13, 883, 1262]\n",
      "Q3 => [398, 4, 143, 484, 180, 541, 581, 1072, 118, 90]\n",
      "Q4 => [264, 1204, 1287, 415, 2, 973, 3, 341, 932, 1348]\n",
      "Q5 => [117, 388, 774, 964, 216, 325, 940, 983, 1186, 538]\n",
      "Q6 => [1142, 1240, 1253, 1179, 594, 634, 1194, 1268, 695, 690]\n",
      "Q7 => [417, 336, 557, 95, 525, 206, 1263, 1286, 958, 314]\n",
      "Q8 => [1195, 767, 883, 725, 882, 557, 329, 864, 908, 834]\n",
      "Q9 => [674, 432, 245, 287, 433, 288, 221, 1341, 901, 792]\n",
      "Q10 => [967, 1327, 1379, 1091, 591, 577, 181, 1150, 723, 1269]\n"
     ]
    }
   ],
   "source": [
    "# Run Jelinek-Mercer smoothing on queries in batch (print top-10 results for each), using the function you created\n",
    "def run_batch_smoothing(queries):\n",
    "    results = {}\n",
    "    for i, q in enumerate(queries, 1):\n",
    "        res = jelinek_smoothing(q)\n",
    "        results[f\"Q{i}\"] = res\n",
    "    return results\n",
    "\n",
    "jelinek_results = run_batch_smoothing(queries_assignment2)\n",
    "\n",
    "for qid, res in jelinek_results.items():\n",
    "    print(qid, \"=>\", res[:10])\n"
   ]
  },
  {
   "cell_type": "markdown",
   "id": "6157d304",
   "metadata": {},
   "source": [
    "#### Dirichlet\n",
    "\n",
    "If you have time, also implement Dirichlet smoothing and briefly compare the top-10 lists for the first query in the queries_assignment2 list\n"
   ]
  },
  {
   "cell_type": "code",
   "execution_count": 22,
   "id": "e2fed468",
   "metadata": {},
   "outputs": [],
   "source": [
    "# TODO (Optional): Implement Dirichlet scoring and compare with Jelinek-Mercer\n",
    "# Your code here\n"
   ]
  },
  {
   "cell_type": "markdown",
   "id": "eb0657d9",
   "metadata": {},
   "source": [
    "## 2.2 Evaluation (Cranfield queries + qrels)\n",
    "\n",
    "Evaluate your retrieval system using **Cranfield**:\n",
    "- Parse **queries** from `cran.qry`\n",
    "- Parse **relevance judgments** from `cranqrel`\n",
    "- Compute **P@k (k=5,10)**, **MAP (Mean Average Precision)**, and **MRR (Mean Reciprocal Rank)** over all queries\n"
   ]
  },
  {
   "cell_type": "markdown",
   "id": "80204da4",
   "metadata": {},
   "source": [
    "### 2.2.1 Parse `cran.qry` and `cranqrel`\n",
    "\n",
    "- Create `queries[qid] = \"text\"` by parsing `cran.qry`\n",
    "- Create `qrels[qid] = set(relevant_doc_ids)` by parsing `cranqrel`\n"
   ]
  },
  {
   "cell_type": "code",
   "execution_count": 23,
   "id": "94a91e3e",
   "metadata": {},
   "outputs": [
    {
     "name": "stdout",
     "output_type": "stream",
     "text": [
      "Parsed 225 queries.\n",
      "Parsed relevance judgments for 225 queries.\n",
      "First query: [(1, 'what similarity laws must be obeyed when constructing aeroelastic models of heated high speed aircraft .')]\n",
      "First qrels entry: [(1, {12, 13, 14, 15, 142, 29, 30, 31, 37, 51, 52, 184, 185, 57, 56, 66, 195, 462, 858, 859, 95, 102, 486, 875, 876, 879, 880, 497, 378})]\n"
     ]
    }
   ],
   "source": [
    "# TODO: Parse cran.qry and cranqrel into convenient data structures\n",
    "# Your code here\n",
    "def parse_cran_queries(path):\n",
    "    queries = {}\n",
    "    current_id = None\n",
    "    buffer = []\n",
    "    \n",
    "    with open(path, \"r\", encoding=\"utf-8\", errors=\"ignore\") as f:\n",
    "        for line in f:\n",
    "            line = line.rstrip(\"\\n\")\n",
    "            if line.startswith(\".I \"):\n",
    "                # save previous query if any\n",
    "                if current_id is not None:\n",
    "                    queries[current_id] = \" \".join(buffer).strip()\n",
    "                current_id = int(line.split()[1])\n",
    "                buffer = []\n",
    "            elif line.startswith(\".W\"):\n",
    "                continue  # marker line, ignore\n",
    "            else:\n",
    "                buffer.append(line)\n",
    "    \n",
    "    # save the last query\n",
    "    if current_id is not None:\n",
    "        queries[current_id] = \" \".join(buffer).strip()\n",
    "    \n",
    "    print(f\"Parsed {len(queries)} queries.\")\n",
    "    return queries\n",
    "\n",
    "\n",
    "def parse_qrels(path):\n",
    "    qrels = {}\n",
    "    with open(path, \"r\", encoding=\"utf-8\", errors=\"ignore\") as f:\n",
    "        for line in f:\n",
    "            parts = line.split()\n",
    "            if len(parts) < 2:\n",
    "                continue\n",
    "            qid = int(parts[0])\n",
    "            doc_id = int(parts[1])\n",
    "            if qid not in qrels:\n",
    "                qrels[qid] = set()\n",
    "            qrels[qid].add(doc_id)\n",
    "    \n",
    "    print(f\"Parsed relevance judgments for {len(qrels)} queries.\")\n",
    "    return qrels\n",
    "\n",
    "\n",
    "# Example usage\n",
    "queries = parse_cran_queries(\"cran.qry\")\n",
    "qrels = parse_qrels(\"cranqrel\")\n",
    "\n",
    "print(\"First query:\", list(queries.items())[:1])\n",
    "print(\"First qrels entry:\", list(qrels.items())[:1])\n"
   ]
  },
  {
   "cell_type": "markdown",
   "id": "de736084",
   "metadata": {},
   "source": [
    "### 2.2.2 Implement metrics: P@k, MAP, MRR\n",
    "\n",
    "Write functions to compute:\n",
    "- Precision@k (for **k=5** and **k=10**)\n",
    "- Mean Average Precision (MAP)\n",
    "- Mean Reciprocal Rank (MRR)\n"
   ]
  },
  {
   "cell_type": "code",
   "execution_count": 24,
   "id": "258d08c3",
   "metadata": {},
   "outputs": [],
   "source": [
    "# TODO: Implement P@k (k=5,10), MAP, and MRR\n",
    "# Your code here\n",
    "def precision_at_k(retrieved, relevant, k):\n",
    "    \"\"\"Compute Precision@k for a single query.\"\"\"\n",
    "    retrieved_k = retrieved[:k]\n",
    "    rel_count = sum(1 for doc_id in retrieved_k if doc_id in relevant)\n",
    "    return rel_count / k\n",
    "\n",
    "\n",
    "def average_precision(retrieved, relevant):\n",
    "    \"\"\"Compute Average Precision (AP) for a single query.\"\"\"\n",
    "    if not relevant:\n",
    "        return 0.0\n",
    "    precisions = []\n",
    "    rel_found = 0\n",
    "    for rank, doc_id in enumerate(retrieved, start=1):\n",
    "        if doc_id in relevant:\n",
    "            rel_found += 1\n",
    "            precisions.append(rel_found / rank)\n",
    "    return sum(precisions) / len(relevant)\n",
    "\n",
    "\n",
    "def reciprocal_rank(retrieved, relevant):\n",
    "    \"\"\"Compute Reciprocal Rank (RR) for a single query.\"\"\"\n",
    "    for rank, doc_id in enumerate(retrieved, start=1):\n",
    "        if doc_id in relevant:\n",
    "            return 1.0 / rank\n",
    "    return 0.0\n"
   ]
  },
  {
   "cell_type": "markdown",
   "id": "4d3b07a1",
   "metadata": {},
   "source": [
    "### 2.2.3 Evaluate your run\n",
    "\n",
    "- For **all queries**, generate rankings with your **Jelinek-Mercer** model\n",
    "- Report aggregate metrics: P@5, P@10, MAP, MRR\n"
   ]
  },
  {
   "cell_type": "code",
   "execution_count": 25,
   "id": "e8f79ad9",
   "metadata": {},
   "outputs": [
    {
     "name": "stdout",
     "output_type": "stream",
     "text": [
      "Evaluation Results\n",
      "P@5 :  0.0053\n",
      "P@10:  0.0067\n",
      "MAP :  0.0081\n",
      "MRR :  0.0228\n"
     ]
    }
   ],
   "source": [
    "# TODO: Run retrieval for all queries and compute P@5, P@10, MAP, and MRR\n",
    "# Your code here\n",
    "# Generate rankings for all Cranfield queries using Jelinek-Mercer\n",
    "results = {}\n",
    "for qid, query_text in queries.items():\n",
    "    results[qid] = jelinek_smoothing(query_text)  # from earlier JM function\n",
    "\n",
    "# Compute aggregate metrics\n",
    "p5, p10, APs, RRs = [], [], [], []\n",
    "\n",
    "for qid, retrieved in results.items():\n",
    "    relevant = qrels.get(qid, set())\n",
    "    p5.append(precision_at_k(retrieved, relevant, 5))\n",
    "    p10.append(precision_at_k(retrieved, relevant, 10))\n",
    "    APs.append(average_precision(retrieved, relevant))\n",
    "    RRs.append(reciprocal_rank(retrieved, relevant))\n",
    "\n",
    "print(\"Evaluation Results\")\n",
    "print(f\"P@5 :  {sum(p5)/len(p5):.4f}\")\n",
    "print(f\"P@10:  {sum(p10)/len(p10):.4f}\")\n",
    "print(f\"MAP :  {sum(APs)/len(APs):.4f}\")\n",
    "print(f\"MRR :  {sum(RRs)/len(RRs):.4f}\")\n",
    "\n"
   ]
  },
  {
   "cell_type": "markdown",
   "id": "b5e466be",
   "metadata": {},
   "source": [
    "\n",
    "### 2.2.4 Interpolated precision–recall curves (11‑point)\n",
    "\n",
    "- For **all queries**, if you don’t have query IDs, assign sequential IDs: `Q1, Q2, ..., Qm` in the order they appear.\n",
    "- Using your **rankings from task 2.2.3** and the **relevance judgments (`cranqrel`)**, compute **precision** and **recall** at each rank for each query.\n",
    "- For the 11 standard recall levels `R = {0.0, 0.1, ..., 1.0}`, compute the **interpolated precision** at level `r` as the **maximum precision** observed at any point with recall ≥ `r`.\n",
    "- **Report/plot** the **11‑point interpolated precision–recall curve** across queries (and optionally a few per‑query curves)."
   ]
  },
  {
   "cell_type": "code",
   "execution_count": 26,
   "id": "1721ea9e",
   "metadata": {},
   "outputs": [],
   "source": [
    "\n",
    "# TODO: Compute the 11-point interpolated precision–recall for each query\n",
    "\n",
    "# Your code here\n",
    "def precision_recall_curve(retrieved, relevant):\n",
    "    \"\"\"Compute precision-recall pairs for a single query.\"\"\"\n",
    "    precisions, recalls = [], []\n",
    "    rel_found = 0\n",
    "    total_relevant = len(relevant)\n",
    "    if total_relevant == 0:\n",
    "        return [], []  # skip queries with no judgments\n",
    "    \n",
    "    for rank, doc_id in enumerate(retrieved, start=1):\n",
    "        if doc_id in relevant:\n",
    "            rel_found += 1\n",
    "        precision = rel_found / rank\n",
    "        recall = rel_found / total_relevant\n",
    "        precisions.append(precision)\n",
    "        recalls.append(recall)\n",
    "    \n",
    "    return precisions, recalls\n",
    "\n",
    "\n",
    "def interpolated_precision(precisions, recalls, recall_levels=np.linspace(0.0, 1.0, 11)):\n",
    "    \"\"\"Compute 11-point interpolated precision curve.\"\"\"\n",
    "    interp = []\n",
    "    for r in recall_levels:\n",
    "        # max precision observed at any recall >= r\n",
    "        p = max([p for p, rec in zip(precisions, recalls) if rec >= r], default=0.0)\n",
    "        interp.append(p)\n",
    "    return interp\n",
    "\n",
    "# Assign sequential IDs if not already present\n",
    "all_qids = list(results.keys())\n",
    "if isinstance(all_qids[0], int):  # cran.qry already has IDs\n",
    "    qid_labels = all_qids\n",
    "else:\n",
    "    qid_labels = [f\"Q{i+1}\" for i in range(len(all_qids))]\n",
    "\n",
    "recall_levels = np.linspace(0.0, 1.0, 11)\n",
    "all_curves = []\n",
    "\n",
    "for qid in all_qids:\n",
    "    retrieved = results[qid]\n",
    "    relevant = qrels.get(qid, set())\n",
    "    precisions, recalls = precision_recall_curve(retrieved, relevant)\n",
    "    if recalls:  # only if query has judgments\n",
    "        interp = interpolated_precision(precisions, recalls, recall_levels)\n",
    "        all_curves.append(interp)\n",
    "\n",
    "# Average across queries\n",
    "mean_curve = np.mean(all_curves, axis=0)\n",
    "\n"
   ]
  },
  {
   "cell_type": "code",
   "execution_count": 27,
   "id": "465039ef",
   "metadata": {},
   "outputs": [
    {
     "data": {
      "image/png": "[encoded data removed]",
      "text/plain": [
       "<Figure size 700x500 with 1 Axes>"
      ]
     },
     "metadata": {},
     "output_type": "display_data"
    }
   ],
   "source": [
    "import matplotlib.pyplot as plt\n",
    "\n",
    "plt.figure(figsize=(7,5))\n",
    "plt.plot(recall_levels, mean_curve, marker=\"o\", label=\"Mean 11-pt Interpolated\")\n",
    "plt.xlabel(\"Recall\")\n",
    "plt.ylabel(\"Precision\")\n",
    "plt.title(\"11-Point Interpolated Precision-Recall Curve\")\n",
    "plt.ylim(0, 1.05)\n",
    "plt.xlim(0, 1.0)\n",
    "plt.grid(True, linestyle=\"--\", alpha=0.6)\n",
    "plt.legend()\n",
    "plt.show()\n"
   ]
  },
  {
   "cell_type": "code",
   "execution_count": 28,
   "id": "d53b7d8b",
   "metadata": {},
   "outputs": [
    {
     "name": "stdout",
     "output_type": "stream",
     "text": [
      "Query: what similarity laws must be obeyed when constructing aeroelastic models of heated high speed aircraft .\n",
      "Top 10 retrieved: [485, 183, 12, 11, 1267, 877, 50, 874, 140, 745]\n",
      "Relevant docs: [12, 13, 14, 15, 142, 29, 30, 31, 37, 51]\n"
     ]
    }
   ],
   "source": [
    "qid = 1\n",
    "print(\"Query:\", queries[qid])\n",
    "print(\"Top 10 retrieved:\", results[qid][:10])\n",
    "print(\"Relevant docs:\", list(qrels[qid])[:10])\n"
   ]
  },
  {
   "cell_type": "code",
   "execution_count": 29,
   "id": "7393a7c9",
   "metadata": {},
   "outputs": [
    {
     "name": "stdout",
     "output_type": "stream",
     "text": [
      "Rank 1: Precision=0.000, Recall=0.000\n",
      "Rank 2: Precision=0.000, Recall=0.000\n",
      "Rank 3: Precision=0.333, Recall=0.034\n",
      "Rank 4: Precision=0.250, Recall=0.034\n",
      "Rank 5: Precision=0.200, Recall=0.034\n",
      "Rank 6: Precision=0.167, Recall=0.034\n",
      "Rank 7: Precision=0.143, Recall=0.034\n",
      "Rank 8: Precision=0.125, Recall=0.034\n",
      "Rank 9: Precision=0.111, Recall=0.034\n",
      "Rank 10: Precision=0.100, Recall=0.034\n",
      "Rank 11: Precision=0.091, Recall=0.034\n",
      "Rank 12: Precision=0.083, Recall=0.034\n",
      "Rank 13: Precision=0.077, Recall=0.034\n",
      "Rank 14: Precision=0.071, Recall=0.034\n",
      "Rank 15: Precision=0.133, Recall=0.069\n"
     ]
    }
   ],
   "source": [
    "def pr_at_ranks(ranked_docs, relevant_docs):\n",
    "    precisions, recalls = [], []\n",
    "    retrieved_rels = 0\n",
    "    for i, d in enumerate(ranked_docs, 1):\n",
    "        if d in relevant_docs:\n",
    "            retrieved_rels += 1\n",
    "        precision = retrieved_rels / i\n",
    "        recall = retrieved_rels / len(relevant_docs)\n",
    "        precisions.append(precision)\n",
    "        recalls.append(recall)\n",
    "    return precisions, recalls\n",
    "\n",
    "qid = 1\n",
    "precisions, recalls = pr_at_ranks(results[qid], qrels[qid])\n",
    "for i, (p, r) in enumerate(zip(precisions[:15], recalls[:15]), 1):\n",
    "    print(f\"Rank {i}: Precision={p:.3f}, Recall={r:.3f}\")\n"
   ]
  }
 ],
 "metadata": {
  "kernelspec": {
   "display_name": "base",
   "language": "python",
   "name": "python3"
  },
  "language_info": {
   "codemirror_mode": {
    "name": "ipython",
    "version": 3
   },
   "file_extension": ".py",
   "mimetype": "text/x-python",
   "name": "python",
   "nbconvert_exporter": "python",
   "pygments_lexer": "ipython3",
   "version": "3.12.3"
  }
 },
 "nbformat": 4,
 "nbformat_minor": 5
}
